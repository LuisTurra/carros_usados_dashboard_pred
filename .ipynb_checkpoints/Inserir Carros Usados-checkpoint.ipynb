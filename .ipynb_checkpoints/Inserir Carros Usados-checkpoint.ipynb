{
 "cells": [
  {
   "cell_type": "code",
   "execution_count": 10,
   "id": "c2b7cec7-b6fb-442b-8431-98020f566222",
   "metadata": {},
   "outputs": [
    {
     "name": "stdout",
     "output_type": "stream",
     "text": [
      "Collecting pymysqlNote: you may need to restart the kernel to use updated packages.\n",
      "\n",
      "  Downloading pymysql-1.1.2-py3-none-any.whl.metadata (4.3 kB)\n",
      "Downloading pymysql-1.1.2-py3-none-any.whl (45 kB)\n",
      "Installing collected packages: pymysql\n",
      "Successfully installed pymysql-1.1.2\n"
     ]
    }
   ],
   "source": [
    "pip install pymysql"
   ]
  },
  {
   "cell_type": "code",
   "execution_count": 11,
   "id": "96096ca7-f243-4f4c-8b78-0f80ad9109ba",
   "metadata": {},
   "outputs": [],
   "source": [
    "import pandas as pd\n",
    "import pymysql"
   ]
  },
  {
   "cell_type": "code",
   "execution_count": 22,
   "id": "468a55cf-df59-488b-9670-742f9050408d",
   "metadata": {},
   "outputs": [],
   "source": [
    "# 1️⃣ Read the Excel file\n",
    "file_path = r\"C:\\Users\\Microsoft\\Desktop\\Datasets\\archive (2)\\used_car_listings.xlsx\"\n",
    "df = pd.read_excel(file_path)\n",
    "df = df.where(pd.notnull(df), None)\n"
   ]
  },
  {
   "cell_type": "code",
   "execution_count": 23,
   "id": "9863438c-f793-4b43-8318-8c91706296c1",
   "metadata": {},
   "outputs": [],
   "source": [
    "# 2️⃣ Connect to MySQL\n",
    "conn = pymysql.connect(\n",
    "    host='localhost',\n",
    "    user='root',\n",
    "    password='lhtr23@#2223L',\n",
    "    database='carros_usado',\n",
    "    charset='utf8mb4'\n",
    ")\n",
    "cursor = conn.cursor()\n",
    "\n"
   ]
  },
  {
   "cell_type": "code",
   "execution_count": 24,
   "id": "e71e4c7c-4284-4579-ae21-a1298a6c4f6f",
   "metadata": {},
   "outputs": [],
   "source": [
    "# 3️⃣ Prepare INSERT statement (adjust columns to match your table)\n",
    "table_name = \"used_car_listings\"\n",
    "columns = \", \".join([f\"`{col}`\" for col in df.columns])\n",
    "placeholders = \", \".join(['%s'] * len(df.columns))\n",
    "sql = f\"INSERT INTO {table_name} ({columns}) VALUES ({placeholders})\"\n",
    "\n"
   ]
  },
  {
   "cell_type": "code",
   "execution_count": 25,
   "id": "aff7e77f-be37-45ec-a171-3a23511c3854",
   "metadata": {},
   "outputs": [
    {
     "name": "stdout",
     "output_type": "stream",
     "text": [
      "Data imported successfully!\n"
     ]
    }
   ],
   "source": [
    "# 4️⃣ Insert all rows\n",
    "for row in df.itertuples(index=False, name=None):\n",
    "    cursor.execute(sql, row)\n",
    "\n",
    "conn.commit()\n",
    "cursor.close()\n",
    "conn.close()\n",
    "\n",
    "print(\"Data imported successfully!\")"
   ]
  },
  {
   "cell_type": "code",
   "execution_count": null,
   "id": "0c36c9d5-3838-4e65-9592-4511126a2a94",
   "metadata": {},
   "outputs": [],
   "source": []
  },
  {
   "cell_type": "code",
   "execution_count": null,
   "id": "791b13d7-3b33-4c99-bdbf-453e0eb02233",
   "metadata": {},
   "outputs": [],
   "source": []
  }
 ],
 "metadata": {
  "kernelspec": {
   "display_name": "Python 3 (ipykernel)",
   "language": "python",
   "name": "python3"
  },
  "language_info": {
   "codemirror_mode": {
    "name": "ipython",
    "version": 3
   },
   "file_extension": ".py",
   "mimetype": "text/x-python",
   "name": "python",
   "nbconvert_exporter": "python",
   "pygments_lexer": "ipython3",
   "version": "3.13.5"
  }
 },
 "nbformat": 4,
 "nbformat_minor": 5
}
